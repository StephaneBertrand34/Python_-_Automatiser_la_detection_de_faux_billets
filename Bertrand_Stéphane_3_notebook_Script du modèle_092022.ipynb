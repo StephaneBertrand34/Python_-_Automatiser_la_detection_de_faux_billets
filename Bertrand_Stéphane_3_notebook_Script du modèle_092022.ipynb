{
 "cells": [
  {
   "cell_type": "code",
   "execution_count": 1,
   "id": "29218527-6ac2-4c1c-9582-880cf4b482d4",
   "metadata": {},
   "outputs": [],
   "source": [
    "nom_du_fichier = 'billets_production.csv'"
   ]
  },
  {
   "cell_type": "code",
   "execution_count": 2,
   "id": "568a0df5-6fb1-47bb-a6a6-c13034549808",
   "metadata": {},
   "outputs": [],
   "source": [
    "import warnings\n",
    "import pickle\n",
    "import pandas as pd\n",
    "import numpy as np"
   ]
  },
  {
   "cell_type": "code",
   "execution_count": 3,
   "id": "da985389-b127-4dfe-bb9c-fd45b053f31c",
   "metadata": {
    "tags": []
   },
   "outputs": [],
   "source": [
    "def detect_predict(prod):\n",
    "    y_predict = pd.DataFrame(model.predict(X))\n",
    "    print('Prédiction:')\n",
    "    return y_predict"
   ]
  },
  {
   "cell_type": "code",
   "execution_count": 4,
   "id": "f91ff7f4-85b4-4a51-a737-a83d10a10c5b",
   "metadata": {
    "tags": []
   },
   "outputs": [],
   "source": [
    "def detect_proba(prod):   \n",
    "    y_prob = pd.DataFrame(model.predict_proba(X).round(2))\n",
    "    y_prob.columns=['Faux', 'Vrai']\n",
    "    print('Tableau de probabilité:')\n",
    "    return y_prob"
   ]
  },
  {
   "cell_type": "code",
   "execution_count": 5,
   "id": "6f7c8657-2e67-48d6-bff1-24e857e7dcb7",
   "metadata": {},
   "outputs": [],
   "source": [
    "with open ('model_file.pkl', 'rb') as file:\n",
    "    data = pickle.load(file)"
   ]
  },
  {
   "cell_type": "code",
   "execution_count": 6,
   "id": "ee2e44a9-fb07-489e-b91a-91d3158fe0cb",
   "metadata": {},
   "outputs": [],
   "source": [
    "prod = pd.read_csv(nom_du_fichier, sep=',', index_col='id')\n",
    "X = prod.drop(columns=['diagonal', 'height_left'], axis=0)\n",
    "model = data"
   ]
  },
  {
   "cell_type": "code",
   "execution_count": 7,
   "id": "d688a129-23b7-432a-be4c-76f13e285432",
   "metadata": {},
   "outputs": [
    {
     "name": "stdout",
     "output_type": "stream",
     "text": [
      "Prédiction:\n"
     ]
    },
    {
     "data": {
      "text/html": [
       "<div>\n",
       "<style scoped>\n",
       "    .dataframe tbody tr th:only-of-type {\n",
       "        vertical-align: middle;\n",
       "    }\n",
       "\n",
       "    .dataframe tbody tr th {\n",
       "        vertical-align: top;\n",
       "    }\n",
       "\n",
       "    .dataframe thead th {\n",
       "        text-align: right;\n",
       "    }\n",
       "</style>\n",
       "<table border=\"1\" class=\"dataframe\">\n",
       "  <thead>\n",
       "    <tr style=\"text-align: right;\">\n",
       "      <th></th>\n",
       "      <th>0</th>\n",
       "    </tr>\n",
       "  </thead>\n",
       "  <tbody>\n",
       "    <tr>\n",
       "      <th>0</th>\n",
       "      <td>False</td>\n",
       "    </tr>\n",
       "    <tr>\n",
       "      <th>1</th>\n",
       "      <td>False</td>\n",
       "    </tr>\n",
       "    <tr>\n",
       "      <th>2</th>\n",
       "      <td>False</td>\n",
       "    </tr>\n",
       "    <tr>\n",
       "      <th>3</th>\n",
       "      <td>True</td>\n",
       "    </tr>\n",
       "    <tr>\n",
       "      <th>4</th>\n",
       "      <td>True</td>\n",
       "    </tr>\n",
       "  </tbody>\n",
       "</table>\n",
       "</div>"
      ],
      "text/plain": [
       "       0\n",
       "0  False\n",
       "1  False\n",
       "2  False\n",
       "3   True\n",
       "4   True"
      ]
     },
     "execution_count": 7,
     "metadata": {},
     "output_type": "execute_result"
    }
   ],
   "source": [
    "detect_predict(prod)"
   ]
  },
  {
   "cell_type": "code",
   "execution_count": 8,
   "id": "7075a7e8-2ff3-44bc-b370-e431258afd51",
   "metadata": {
    "tags": []
   },
   "outputs": [
    {
     "name": "stdout",
     "output_type": "stream",
     "text": [
      "Tableau de probabilité:\n"
     ]
    },
    {
     "data": {
      "text/html": [
       "<div>\n",
       "<style scoped>\n",
       "    .dataframe tbody tr th:only-of-type {\n",
       "        vertical-align: middle;\n",
       "    }\n",
       "\n",
       "    .dataframe tbody tr th {\n",
       "        vertical-align: top;\n",
       "    }\n",
       "\n",
       "    .dataframe thead th {\n",
       "        text-align: right;\n",
       "    }\n",
       "</style>\n",
       "<table border=\"1\" class=\"dataframe\">\n",
       "  <thead>\n",
       "    <tr style=\"text-align: right;\">\n",
       "      <th></th>\n",
       "      <th>Faux</th>\n",
       "      <th>Vrai</th>\n",
       "    </tr>\n",
       "  </thead>\n",
       "  <tbody>\n",
       "    <tr>\n",
       "      <th>0</th>\n",
       "      <td>1.00</td>\n",
       "      <td>0.00</td>\n",
       "    </tr>\n",
       "    <tr>\n",
       "      <th>1</th>\n",
       "      <td>1.00</td>\n",
       "      <td>0.00</td>\n",
       "    </tr>\n",
       "    <tr>\n",
       "      <th>2</th>\n",
       "      <td>1.00</td>\n",
       "      <td>0.00</td>\n",
       "    </tr>\n",
       "    <tr>\n",
       "      <th>3</th>\n",
       "      <td>0.01</td>\n",
       "      <td>0.99</td>\n",
       "    </tr>\n",
       "    <tr>\n",
       "      <th>4</th>\n",
       "      <td>0.00</td>\n",
       "      <td>1.00</td>\n",
       "    </tr>\n",
       "  </tbody>\n",
       "</table>\n",
       "</div>"
      ],
      "text/plain": [
       "   Faux  Vrai\n",
       "0  1.00  0.00\n",
       "1  1.00  0.00\n",
       "2  1.00  0.00\n",
       "3  0.01  0.99\n",
       "4  0.00  1.00"
      ]
     },
     "execution_count": 8,
     "metadata": {},
     "output_type": "execute_result"
    }
   ],
   "source": [
    "detect_proba(prod)"
   ]
  }
 ],
 "metadata": {
  "kernelspec": {
   "display_name": "Python 3 (ipykernel)",
   "language": "python",
   "name": "python3"
  },
  "language_info": {
   "codemirror_mode": {
    "name": "ipython",
    "version": 3
   },
   "file_extension": ".py",
   "mimetype": "text/x-python",
   "name": "python",
   "nbconvert_exporter": "python",
   "pygments_lexer": "ipython3",
   "version": "3.9.7"
  }
 },
 "nbformat": 4,
 "nbformat_minor": 5
}
